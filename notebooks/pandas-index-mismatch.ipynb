{
 "cells": [
  {
   "cell_type": "markdown",
   "metadata": {},
   "source": [
    "*Thrill. Passion. Excitement. These are not the emotions you feel when you see a ticket with a bug report. You mark it as a boring task at the moment you read it and your procrastination obligingly provide you with a list of distractions you can use to avoid it.*\n",
    "\n",
    "*I used to feel like that. But soon I understood that each bug is a complex and unique story much more surprising than any crime novel. I never know how it ends, but what I know for sure, it will be interesting. Now hunting bugs is a sort of my own detective agency with murders, victims, alibis, and evidence. And a murderer is usually is my colleague (or even I am myself).* "
   ]
  },
  {
   "cell_type": "markdown",
   "metadata": {},
   "source": [
    "So here is a case No 1. Mysterious missed values in a pandas dataframe.\n",
    "\n",
    "# Case study\n",
    "\n",
    "This bug was reported "
   ]
  }
 ],
 "metadata": {
  "kernelspec": {
   "display_name": "Python 3",
   "language": "python",
   "name": "python3"
  },
  "language_info": {
   "codemirror_mode": {
    "name": "ipython",
    "version": 3
   },
   "file_extension": ".py",
   "mimetype": "text/x-python",
   "name": "python",
   "nbconvert_exporter": "python",
   "pygments_lexer": "ipython3",
   "version": "3.6.3"
  }
 },
 "nbformat": 4,
 "nbformat_minor": 2
}
